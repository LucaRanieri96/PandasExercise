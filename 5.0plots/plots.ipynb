{
 "cells": [
  {
   "cell_type": "code",
   "execution_count": 26,
   "metadata": {},
   "outputs": [
    {
     "name": "stdout",
     "output_type": "stream",
     "text": [
      "                                        track_name     streams\n",
      "55                                 Blinding Lights  3703895074\n",
      "179                                   Shape of You  3562543890\n",
      "86                               Someone You Loved  2887241814\n",
      "620                                   Dance Monkey  2864791672\n",
      "41   Sunflower - Spider-Man: Into the Spider-Verse  2808096550\n",
      "162                                      One Dance  2713922350\n",
      "84                       STAY (with Justin Bieber)  2665343922\n",
      "140                                       Believer  2594040133\n",
      "725                                         Closer  2591224264\n",
      "48                                         Starboy  2565529693\n"
     ]
    }
   ],
   "source": [
    "import pandas as pd\n",
    "\n",
    "file_path = '../0.datasets/SpotifyMostStreamedSongs.csv'\n",
    "df = pd.read_csv(file_path)\n",
    "\n",
    "# verificare se ci sono valori non numerici in streams\n",
    "non_numeric_values = df[~df['streams'].str.isnumeric()]\n",
    "\n",
    "df = df.drop([574])\n",
    "\n",
    "df['streams'] = df['streams'].astype(int)\n",
    "\n",
    "top_tracks = df[['track_name', 'streams']]\n",
    "\n",
    "sorted_top_tracks = top_tracks.sort_values(by='streams', ascending=False)\n",
    "\n",
    "print(sorted_top_tracks.head(10))\n",
    "\n"
   ]
  }
 ],
 "metadata": {
  "kernelspec": {
   "display_name": "Python 3",
   "language": "python",
   "name": "python3"
  },
  "language_info": {
   "codemirror_mode": {
    "name": "ipython",
    "version": 3
   },
   "file_extension": ".py",
   "mimetype": "text/x-python",
   "name": "python",
   "nbconvert_exporter": "python",
   "pygments_lexer": "ipython3",
   "version": "3.12.7"
  }
 },
 "nbformat": 4,
 "nbformat_minor": 2
}
