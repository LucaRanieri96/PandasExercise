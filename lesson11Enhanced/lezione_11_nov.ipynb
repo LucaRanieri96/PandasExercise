{
 "cells": [
  {
   "cell_type": "markdown",
   "metadata": {},
   "source": [
    "1. crea un dataframe con le colonne:\n",
    "    * - id studente [incrementale]\n",
    "    * - voto italiano [valori tra 1-10]\n",
    "    * - voto storia [valori tra 1-10]\n",
    "    * - voto geografia [valori tra 1-10]\n",
    "    * - voto matematica [valori tra 1-10]\n",
    "    * - voto fisica [valori tra 1-10]\n",
    "    * - voto inglese [valori tra 1-10]\n",
    "\n",
    "    Dataframe di 1000 righe\n",
    "\n",
    "2. Trovare media, il massimo , il minimo, e la varianza della classe\n",
    "3. Fare preprocessing e normalizzare i voti con min max scaler e togliere l'id studente\n",
    "4. Crea una colonna con la media voto per studente: df['Media Voto'] = df[voti_columns].mean(axis=1)df['Media Voto'] = df[voti_columns].mean(axis=1)\n",
    "5. Crea una colonna per le labels cioè se uno studente è promosso o no: df['promosso'] = df['Media Voto'] >= 6\n",
    "6. Preprocessing della colonna bocciato\n",
    "7. Provare a prendire se uno studente boccierà o no\n",
    "\n",
    "\n"
   ]
  },
  {
   "cell_type": "code",
   "execution_count": 220,
   "metadata": {},
   "outputs": [],
   "source": [
    "import pandas as pd \n",
    "import random\n",
    "import matplotlib.pyplot as plt\n",
    "from sklearn.preprocessing import MinMaxScaler, LabelEncoder\n",
    "from sklearn.model_selection import train_test_split\n",
    "from sklearn.svm import SVC\n",
    "from sklearn.metrics import accuracy_score, classification_report"
   ]
  },
  {
   "cell_type": "code",
   "execution_count": 221,
   "metadata": {},
   "outputs": [
    {
     "name": "stdout",
     "output_type": "stream",
     "text": [
      "<class 'pandas.core.frame.DataFrame'>\n",
      "RangeIndex: 1000 entries, 0 to 999\n",
      "Data columns (total 7 columns):\n",
      " #   Column           Non-Null Count  Dtype\n",
      "---  ------           --------------  -----\n",
      " 0   id_studente      1000 non-null   int64\n",
      " 1   voti_italiano    1000 non-null   int64\n",
      " 2   voti_storia      1000 non-null   int64\n",
      " 3   voti_geografia   1000 non-null   int64\n",
      " 4   voti_matematica  1000 non-null   int64\n",
      " 5   voti_fisica      1000 non-null   int64\n",
      " 6   voti_inglese     1000 non-null   int64\n",
      "dtypes: int64(7)\n",
      "memory usage: 54.8 KB\n",
      "None\n"
     ]
    }
   ],
   "source": [
    "# 1. Creazione del DataFrame con 1000 righe e colonne specificate\n",
    "n_students = 1000\n",
    "\n",
    "# Inizializziamo il DataFrame con la colonna 'id_studente'\n",
    "dataset = pd.DataFrame()\n",
    "dataset[\"id_studente\"] = pd.Series(range(1, n_students + 1))\n",
    "\n",
    "# Creiamo i voti per ciascuna materia usando un ciclo senza list comprehension\n",
    "materie = [\"voti_italiano\", \"voti_storia\", \"voti_geografia\", \"voti_matematica\", \"voti_fisica\", \"voti_inglese\"]\n",
    "\n",
    "# Popoliamo il DataFrame con voti casuali tra 1 e 10 per ogni materia\n",
    "for materia in materie:\n",
    "    voti = []\n",
    "    for _ in range(n_students):\n",
    "        voti.append(random.randint(1, 10))\n",
    "    dataset[materia] = pd.Series(voti)\n",
    "\n",
    "print(dataset.info())\n",
    "\n",
    "#metodo1\n",
    "statistiche = dataset.agg(['mean', 'max', 'min', 'var'])\n",
    "\n",
    "#metodo2\n",
    "statistiche = dataset.describe()\n",
    "\n",
    "#metodo3\n",
    "# 2. Estraiamo i nomi delle colonne direttamente dal DataFrame, escludendo 'id_studente'\n",
    "# materie = [col for col in dataset.columns if col != \"id_studente\"]\n",
    "\n",
    "# materie = []\n",
    "\n",
    "# for col in dataset.columns:\n",
    "#     if col != \"id_studente\":\n",
    "#         materie.append(col)\n",
    "\n",
    "# # Inizializziamo un dizionario per memorizzare le statistiche\n",
    "# statistiche = {\"mean\": {}, \"max\": {}, \"min\": {}, \"var\": {}}\n",
    "\n",
    "# # Calcoliamo le statistiche per ogni colonna utilizzando cicli for\n",
    "# for materia in materie:\n",
    "#     colonna = dataset[materia]\n",
    "#     media = colonna.mean()\n",
    "#     massimo = colonna.max()\n",
    "#     minimo = colonna.min()\n",
    "#     varianza = colonna.var()\n",
    "\n",
    "#     # Memorizziamo i risultati nel dizionario\n",
    "#     statistiche[\"mean\"][materia] = media\n",
    "#     statistiche[\"max\"][materia] = massimo\n",
    "#     statistiche[\"min\"][materia] = minimo\n",
    "#     statistiche[\"var\"][materia] = varianza\n",
    "\n",
    "# # Mostriamo le statistiche calcolate\n",
    "# for stat, valori in statistiche.items():\n",
    "#     print(f\"\\nStatistiche - {stat}:\")\n",
    "#     for materia, valore in valori.items():\n",
    "#         print(f\"{materia}: {valore:.2f}\")\n",
    "\n",
    "# print(statistiche)\n"
   ]
  },
  {
   "cell_type": "code",
   "execution_count": 222,
   "metadata": {},
   "outputs": [
    {
     "name": "stdout",
     "output_type": "stream",
     "text": [
      "Dataset normalizzato (prime 5 righe):\n",
      "   id_studente  voti_italiano  voti_storia  voti_geografia  voti_matematica  \\\n",
      "0            1       0.777778     0.888889        0.000000         0.555556   \n",
      "1            2       0.000000     0.111111        1.000000         0.666667   \n",
      "2            3       0.888889     0.555556        0.000000         0.666667   \n",
      "3            4       0.444444     0.555556        0.888889         0.222222   \n",
      "4            5       0.444444     0.000000        0.555556         0.777778   \n",
      "\n",
      "   voti_fisica  voti_inglese  \n",
      "0     0.777778      0.000000  \n",
      "1     0.222222      0.888889  \n",
      "2     0.666667      0.444444  \n",
      "3     0.000000      0.333333  \n",
      "4     0.222222      1.000000  \n"
     ]
    }
   ],
   "source": [
    "materie = [col for col in dataset.columns if col != \"id_studente\"]\n",
    "\n",
    "# 3. Preprocessing: Normalizzazione dei voti con MinMaxScaler\n",
    "normalizer = MinMaxScaler()\n",
    "\n",
    "# Normalizziamo solo le colonne dei voti, escludendo 'id_studente'\n",
    "dataset[materie] = normalizer.fit_transform(dataset[materie])\n",
    "\n",
    "# Mostriamo le prime righe del DataFrame normalizzato\n",
    "print(\"Dataset normalizzato (prime 5 righe):\")\n",
    "print(dataset.head())\n",
    "\n",
    "# # Creiamo un grafico a istogramma per ciascuna materia\n",
    "# materie1 = [col for col in dataset.columns if col.startswith(\"voti\")]\n",
    "\n",
    "# for materia in materie1:\n",
    "#     plt.hist(dataset[materia], bins=10, alpha=0.6, label=materia)\n",
    "\n",
    "# # Configurazione del grafico\n",
    "# plt.title(\"Distribuzione dei Voti Originali per Materia\")\n",
    "# plt.xlabel(\"Voto (1-10)\")\n",
    "# plt.ylabel(\"Frequenza\")\n",
    "# plt.legend()\n",
    "# plt.grid(axis='y')\n",
    "# plt.show()"
   ]
  },
  {
   "cell_type": "code",
   "execution_count": 223,
   "metadata": {},
   "outputs": [
    {
     "name": "stdout",
     "output_type": "stream",
     "text": [
      "Dataset con la colonna 'Media_Voto' (prime 5 righe):\n",
      "   id_studente  voti_italiano  voti_storia  voti_geografia  voti_matematica  \\\n",
      "0            1       0.777778     0.888889        0.000000         0.555556   \n",
      "1            2       0.000000     0.111111        1.000000         0.666667   \n",
      "2            3       0.888889     0.555556        0.000000         0.666667   \n",
      "3            4       0.444444     0.555556        0.888889         0.222222   \n",
      "4            5       0.444444     0.000000        0.555556         0.777778   \n",
      "\n",
      "   voti_fisica  voti_inglese  Media_Voto  promosso  \n",
      "0     0.777778      0.000000    0.500000     False  \n",
      "1     0.222222      0.888889    0.481481     False  \n",
      "2     0.666667      0.444444    0.537037     False  \n",
      "3     0.000000      0.333333    0.407407     False  \n",
      "4     0.222222      1.000000    0.500000     False  \n"
     ]
    }
   ],
   "source": [
    "# Usiamo il metodo mean() con axis=1 per calcolare la media dei voti su tutte le materie\n",
    "dataset[\"Media_Voto\"] = dataset[materie].mean(axis=1)\n",
    "\n",
    "# Mostriamo le prime righe del DataFrame con la nuova colonna 'Media_Voto'\n",
    "\n",
    "print(\"Dataset con la colonna 'Media_Voto' (prime 5 righe):\")\n",
    "dataset['promosso'] = dataset['Media_Voto'] >= 0.6\n",
    "print(dataset.head())"
   ]
  },
  {
   "cell_type": "code",
   "execution_count": 224,
   "metadata": {},
   "outputs": [
    {
     "name": "stderr",
     "output_type": "stream",
     "text": [
      "c:\\Users\\lucar\\AppData\\Local\\Programs\\Python\\Python311\\Lib\\site-packages\\sklearn\\preprocessing\\_label.py:97: DataConversionWarning: A column-vector y was passed when a 1d array was expected. Please change the shape of y to (n_samples, ), for example using ravel().\n",
      "  y = column_or_1d(y, warn=True)\n",
      "c:\\Users\\lucar\\AppData\\Local\\Programs\\Python\\Python311\\Lib\\site-packages\\sklearn\\preprocessing\\_label.py:132: DataConversionWarning: A column-vector y was passed when a 1d array was expected. Please change the shape of y to (n_samples, ), for example using ravel().\n",
      "  y = column_or_1d(y, dtype=self.classes_.dtype, warn=True)\n"
     ]
    },
    {
     "data": {
      "text/html": [
       "<div>\n",
       "<style scoped>\n",
       "    .dataframe tbody tr th:only-of-type {\n",
       "        vertical-align: middle;\n",
       "    }\n",
       "\n",
       "    .dataframe tbody tr th {\n",
       "        vertical-align: top;\n",
       "    }\n",
       "\n",
       "    .dataframe thead th {\n",
       "        text-align: right;\n",
       "    }\n",
       "</style>\n",
       "<table border=\"1\" class=\"dataframe\">\n",
       "  <thead>\n",
       "    <tr style=\"text-align: right;\">\n",
       "      <th></th>\n",
       "      <th>id_studente</th>\n",
       "      <th>voti_italiano</th>\n",
       "      <th>voti_storia</th>\n",
       "      <th>voti_geografia</th>\n",
       "      <th>voti_matematica</th>\n",
       "      <th>voti_fisica</th>\n",
       "      <th>voti_inglese</th>\n",
       "      <th>Media_Voto</th>\n",
       "      <th>promosso</th>\n",
       "    </tr>\n",
       "  </thead>\n",
       "  <tbody>\n",
       "    <tr>\n",
       "      <th>0</th>\n",
       "      <td>1</td>\n",
       "      <td>0.777778</td>\n",
       "      <td>0.888889</td>\n",
       "      <td>0.000000</td>\n",
       "      <td>0.555556</td>\n",
       "      <td>0.777778</td>\n",
       "      <td>0.000000</td>\n",
       "      <td>0.500000</td>\n",
       "      <td>0</td>\n",
       "    </tr>\n",
       "    <tr>\n",
       "      <th>1</th>\n",
       "      <td>2</td>\n",
       "      <td>0.000000</td>\n",
       "      <td>0.111111</td>\n",
       "      <td>1.000000</td>\n",
       "      <td>0.666667</td>\n",
       "      <td>0.222222</td>\n",
       "      <td>0.888889</td>\n",
       "      <td>0.481481</td>\n",
       "      <td>0</td>\n",
       "    </tr>\n",
       "    <tr>\n",
       "      <th>2</th>\n",
       "      <td>3</td>\n",
       "      <td>0.888889</td>\n",
       "      <td>0.555556</td>\n",
       "      <td>0.000000</td>\n",
       "      <td>0.666667</td>\n",
       "      <td>0.666667</td>\n",
       "      <td>0.444444</td>\n",
       "      <td>0.537037</td>\n",
       "      <td>0</td>\n",
       "    </tr>\n",
       "    <tr>\n",
       "      <th>3</th>\n",
       "      <td>4</td>\n",
       "      <td>0.444444</td>\n",
       "      <td>0.555556</td>\n",
       "      <td>0.888889</td>\n",
       "      <td>0.222222</td>\n",
       "      <td>0.000000</td>\n",
       "      <td>0.333333</td>\n",
       "      <td>0.407407</td>\n",
       "      <td>0</td>\n",
       "    </tr>\n",
       "    <tr>\n",
       "      <th>4</th>\n",
       "      <td>5</td>\n",
       "      <td>0.444444</td>\n",
       "      <td>0.000000</td>\n",
       "      <td>0.555556</td>\n",
       "      <td>0.777778</td>\n",
       "      <td>0.222222</td>\n",
       "      <td>1.000000</td>\n",
       "      <td>0.500000</td>\n",
       "      <td>0</td>\n",
       "    </tr>\n",
       "  </tbody>\n",
       "</table>\n",
       "</div>"
      ],
      "text/plain": [
       "   id_studente  voti_italiano  voti_storia  voti_geografia  voti_matematica  \\\n",
       "0            1       0.777778     0.888889        0.000000         0.555556   \n",
       "1            2       0.000000     0.111111        1.000000         0.666667   \n",
       "2            3       0.888889     0.555556        0.000000         0.666667   \n",
       "3            4       0.444444     0.555556        0.888889         0.222222   \n",
       "4            5       0.444444     0.000000        0.555556         0.777778   \n",
       "\n",
       "   voti_fisica  voti_inglese  Media_Voto  promosso  \n",
       "0     0.777778      0.000000    0.500000         0  \n",
       "1     0.222222      0.888889    0.481481         0  \n",
       "2     0.666667      0.444444    0.537037         0  \n",
       "3     0.000000      0.333333    0.407407         0  \n",
       "4     0.222222      1.000000    0.500000         0  "
      ]
     },
     "metadata": {},
     "output_type": "display_data"
    }
   ],
   "source": [
    "label_encoder = LabelEncoder()\n",
    "label_encoder.fit(dataset[['promosso']])\n",
    "dataset['promosso'] = label_encoder.transform(dataset[['promosso']])\n",
    "\n",
    "display(dataset.head())"
   ]
  },
  {
   "cell_type": "code",
   "execution_count": 225,
   "metadata": {},
   "outputs": [
    {
     "name": "stdout",
     "output_type": "stream",
     "text": [
      "Accuratezza del modello: 0.99\n",
      "Report di classificazione:\n",
      "               precision    recall  f1-score   support\n",
      "\n",
      "           0       0.99      1.00      0.99       158\n",
      "           1       1.00      0.95      0.98        42\n",
      "\n",
      "    accuracy                           0.99       200\n",
      "   macro avg       0.99      0.98      0.98       200\n",
      "weighted avg       0.99      0.99      0.99       200\n",
      "\n"
     ]
    }
   ],
   "source": [
    "X = dataset.drop(columns=[\"Media_Voto\", \"promosso\", 'id_studente'])\n",
    "y = dataset[\"promosso\"]\n",
    "\n",
    "X_train, X_test, y_train, y_test = train_test_split(X, y, random_state=79, test_size = 0.2)\n",
    "\n",
    "# 2. Creazione e training del modello SVM con kernel lineare\n",
    "svm = SVC(kernel='linear')\n",
    "svm.fit(X_train, y_train)\n",
    "\n",
    "# 3. Previsioni sul test set\n",
    "y_pred = svm.predict(X_test)\n",
    "\n",
    "# 4. Valutazione del modello\n",
    "accuracy = accuracy_score(y_test, y_pred)\n",
    "report = classification_report(y_test, y_pred)\n",
    "\n",
    "# Mostriamo i risultati\n",
    "print(f\"Accuratezza del modello: {accuracy:.2f}\")\n",
    "print(\"Report di classificazione:\\n\", report)"
   ]
  },
  {
   "cell_type": "code",
   "execution_count": 226,
   "metadata": {},
   "outputs": [
    {
     "name": "stdout",
     "output_type": "stream",
     "text": [
      "Lo studente è: Bocciato\n"
     ]
    },
    {
     "name": "stderr",
     "output_type": "stream",
     "text": [
      "c:\\Users\\lucar\\AppData\\Local\\Programs\\Python\\Python311\\Lib\\site-packages\\sklearn\\base.py:493: UserWarning: X does not have valid feature names, but SVC was fitted with feature names\n",
      "  warnings.warn(\n"
     ]
    }
   ],
   "source": [
    "# Esempio di voti per un nuovo studente (voti originali, non normalizzati)\n",
    "nuovo_studente = {\n",
    "    \"voti_italiano\": 7,\n",
    "    \"voti_storia\": 5,\n",
    "    \"voti_geografia\": 6,\n",
    "    \"voti_matematica\": 8,\n",
    "    \"voti_fisica\": 6,\n",
    "    \"voti_inglese\": 7\n",
    "}\n",
    "\n",
    "# Creiamo un DataFrame per il nuovo studente con i nomi delle colonne corretti\n",
    "nuovo_studente_df = pd.DataFrame([nuovo_studente])\n",
    "\n",
    "# Normalizziamo i voti utilizzando lo stesso scaler usato per il training\n",
    "nuovo_studente_normalizzato = normalizer.transform(nuovo_studente_df)\n",
    "\n",
    "# Facciamo la previsione utilizzando il modello addestrato\n",
    "predizione = svm.predict(nuovo_studente_normalizzato)\n",
    "\n",
    "# Mostriamo il risultato\n",
    "risultato = \"Promosso\" if predizione[0] == 1 else \"Bocciato\"\n",
    "print(f\"Lo studente è: {risultato}\")"
   ]
  },
  {
   "cell_type": "code",
   "execution_count": 227,
   "metadata": {},
   "outputs": [
    {
     "data": {
      "text/plain": [
       "<Figure size 1000x600 with 0 Axes>"
      ]
     },
     "metadata": {},
     "output_type": "display_data"
    },
    {
     "data": {
      "image/png": "[encoded data removed]",
      "text/plain": [
       "<Figure size 640x480 with 1 Axes>"
      ]
     },
     "metadata": {},
     "output_type": "display_data"
    }
   ],
   "source": [
    "# Calcoliamo la distribuzione delle classi reali e delle previsioni\n",
    "distribuzione_real = y_test.value_counts(normalize=True)\n",
    "distribuzione_pred = pd.Series(y_pred).value_counts(normalize=True)\n",
    "\n",
    "# Creiamo un DataFrame per visualizzare meglio le distribuzioni\n",
    "confronto_distribuzione = pd.DataFrame({\n",
    "    'Valori Reali': distribuzione_real,\n",
    "    'Previsioni Modello': distribuzione_pred\n",
    "})\n",
    "\n",
    "# Visualizziamo il grafico a barre comparativo\n",
    "plt.figure(figsize=(10, 6))\n",
    "confronto_distribuzione.plot(kind='bar', color=['skyblue', 'lightgreen'], alpha=0.7)\n",
    "plt.title(\"Confronto della Distribuzione delle Classi: Valori Reali vs Previsioni\")\n",
    "plt.xticks([0, 1], ['Bocciato', 'Promosso'], rotation=0)\n",
    "plt.ylabel(\"Percentuale\")\n",
    "plt.grid(axis='y')\n",
    "plt.show()"
   ]
  }
 ],
 "metadata": {
  "kernelspec": {
   "display_name": "Python 3",
   "language": "python",
   "name": "python3"
  },
  "language_info": {
   "codemirror_mode": {
    "name": "ipython",
    "version": 3
   },
   "file_extension": ".py",
   "mimetype": "text/x-python",
   "name": "python",
   "nbconvert_exporter": "python",
   "pygments_lexer": "ipython3",
   "version": "3.11.5"
  }
 },
 "nbformat": 4,
 "nbformat_minor": 2
}
