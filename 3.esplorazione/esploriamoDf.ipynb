{
 "cells": [
  {
   "cell_type": "code",
   "execution_count": 3,
   "metadata": {},
   "outputs": [
    {
     "name": "stdout",
     "output_type": "stream",
     "text": [
      "     data_dte  Year  Month  usg_apt_id usg_apt  usg_wac  fg_apt_id fg_apt  \\\n",
      "0  05/01/2006  2006      5       12016     GUM        5      13162    MAJ   \n",
      "1  05/01/2003  2003      5       10299     ANC        1      13856    OKO   \n",
      "2  03/01/2007  2007      3       10721     BOS       13      12651    KEF   \n",
      "3  12/01/2004  2004     12       11259     DAL       74      16271    YYZ   \n",
      "4  05/01/2009  2009      5       13303     MIA       33      11075    CMW   \n",
      "\n",
      "   fg_wac  airlineid carrier  carriergroup        type  Scheduled  Charter  \\\n",
      "0     844      20177     PFQ             1  Departures          0       10   \n",
      "1     736      20007      5Y             1  Departures          0       15   \n",
      "2     439      20402      GL             1  Departures          0        1   \n",
      "3     936      20201     AMQ             1  Departures          0        1   \n",
      "4     219      21323      5L             0  Departures          0       20   \n",
      "\n",
      "   Total  \n",
      "0     10  \n",
      "1     15  \n",
      "2      1  \n",
      "3      1  \n",
      "4     20  \n"
     ]
    }
   ],
   "source": [
    "import pandas as pd\n",
    "\n",
    "#leggere il csv tramite pandas -> creare un dataframe!\n",
    "percorso_file = '../0.datasets/Voli.csv'\n",
    "df = pd.read_csv(percorso_file)\n",
    "\n",
    "print(df.head())\n",
    "\n",
    "#Informazioni generali sul Dataframe\n",
    "# print(df.info())\n",
    "\n",
    "# print(df.describe())\n",
    "\n",
    "# print(df.columns)\n",
    "\n",
    "# dict['Studente'] => valore della chiave studente dentro il dizionario di nome \"dict\"\n",
    "\n",
    "# print(df[\"Year\"].describe())\n",
    "\n",
    "# print(df.dtypes)\n",
    "\n",
    "df['Year'] = df['Year'].astype(str)\n",
    "\n",
    "\n"
   ]
  }
 ],
 "metadata": {
  "kernelspec": {
   "display_name": "Python 3",
   "language": "python",
   "name": "python3"
  },
  "language_info": {
   "codemirror_mode": {
    "name": "ipython",
    "version": 3
   },
   "file_extension": ".py",
   "mimetype": "text/x-python",
   "name": "python",
   "nbconvert_exporter": "python",
   "pygments_lexer": "ipython3",
   "version": "3.12.7"
  }
 },
 "nbformat": 4,
 "nbformat_minor": 2
}
