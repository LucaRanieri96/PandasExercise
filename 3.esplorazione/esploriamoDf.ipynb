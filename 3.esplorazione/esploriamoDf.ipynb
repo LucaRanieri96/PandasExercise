{
 "cells": [
  {
   "cell_type": "code",
   "execution_count": 17,
   "metadata": {},
   "outputs": [
    {
     "name": "stdout",
     "output_type": "stream",
     "text": [
      "data_dte        object\n",
      "Year             int64\n",
      "Month            int64\n",
      "usg_apt_id       int64\n",
      "usg_apt         object\n",
      "usg_wac          int64\n",
      "fg_apt_id        int64\n",
      "fg_apt          object\n",
      "fg_wac           int64\n",
      "airlineid        int64\n",
      "carrier         object\n",
      "carriergroup     int64\n",
      "type            object\n",
      "Scheduled        int64\n",
      "Charter          int64\n",
      "Total            int64\n",
      "dtype: object\n"
     ]
    }
   ],
   "source": [
    "import pandas as pd\n",
    "\n",
    "#leggere il csv tramite pandas -> creare un dataframe!\n",
    "percorso_file = '../0.datasets/Voli.csv'\n",
    "df = pd.read_csv(percorso_file)\n",
    "\n",
    "# print(df.head())\n",
    "\n",
    "#Informazioni generali sul Dataframe\n",
    "# print(df.info())\n",
    "\n",
    "# print(df.describe())\n",
    "\n",
    "# print(df.columns)\n",
    "\n",
    "# dict['Studente'] => valore della chiave studente dentro il dizionario di nome \"dict\"\n",
    "\n",
    "# print(df[\"Year\"].describe())\n",
    "\n",
    "# print(df.dtypes)\n",
    "\n",
    "df['Year'] = df['Year'].astype(str)\n",
    "\n",
    "\n"
   ]
  }
 ],
 "metadata": {
  "kernelspec": {
   "display_name": "Python 3",
   "language": "python",
   "name": "python3"
  },
  "language_info": {
   "codemirror_mode": {
    "name": "ipython",
    "version": 3
   },
   "file_extension": ".py",
   "mimetype": "text/x-python",
   "name": "python",
   "nbconvert_exporter": "python",
   "pygments_lexer": "ipython3",
   "version": "3.12.7"
  }
 },
 "nbformat": 4,
 "nbformat_minor": 2
}
