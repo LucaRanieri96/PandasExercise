{
 "cells": [
  {
   "cell_type": "markdown",
   "metadata": {},
   "source": [
    "# Creazione di un DataFrame da una lista o un dizionario\n",
    "## Se vuoi creare un DataFrame direttamente da una lista di dizionari o una lista di liste:"
   ]
  },
  {
   "cell_type": "code",
   "execution_count": 3,
   "metadata": {},
   "outputs": [
    {
     "name": "stdout",
     "output_type": "stream",
     "text": [
      "\n",
      "DataFrame creato da un dizionario:\n",
      "     data_dte  Year  Month  usg_apt_id usg_apt  usg_wac  fg_apt_id fg_apt  \\\n",
      "0  2023-01-01  2023      1           1     JFK       41         11    LHR   \n",
      "1  2023-02-01  2023      2           2     LAX       91         22    CDG   \n",
      "\n",
      "   fg_wac  airlineid carrier  carriergroup       type  Scheduled  Charter  \\\n",
      "0      21        101      AA             1  Scheduled        200       50   \n",
      "1      31        102      DL             2    Charter        180       20   \n",
      "\n",
      "   Total  \n",
      "0    250  \n",
      "1    200  \n"
     ]
    }
   ],
   "source": [
    "import pandas as pd\n",
    "# Creare un DataFrame da un dizionario\n",
    "data = {\n",
    "    'data_dte': ['2023-01-01', '2023-02-01'],\n",
    "    'Year': [2023, 2023],\n",
    "    'Month': [1, 2],\n",
    "    'usg_apt_id': [1, 2],\n",
    "    'usg_apt': ['JFK', 'LAX'],\n",
    "    'usg_wac': [41, 91],\n",
    "    'fg_apt_id': [11, 22],\n",
    "    'fg_apt': ['LHR', 'CDG'],\n",
    "    'fg_wac': [21, 31],\n",
    "    'airlineid': [101, 102],\n",
    "    'carrier': ['AA', 'DL'],\n",
    "    'carriergroup': [1, 2],\n",
    "    'type': ['Scheduled', 'Charter'],\n",
    "    'Scheduled': [200, 180],\n",
    "    'Charter': [50, 20],\n",
    "    'Total': [250, 200]\n",
    "}\n",
    "\n",
    "df_from_dict = pd.DataFrame(data)\n",
    "print(\"\\nDataFrame creato da un dizionario:\")\n",
    "print(df_from_dict.head())\n"
   ]
  }
 ],
 "metadata": {
  "kernelspec": {
   "display_name": "Python 3",
   "language": "python",
   "name": "python3"
  },
  "language_info": {
   "codemirror_mode": {
    "name": "ipython",
    "version": 3
   },
   "file_extension": ".py",
   "mimetype": "text/x-python",
   "name": "python",
   "nbconvert_exporter": "python",
   "pygments_lexer": "ipython3",
   "version": "3.12.7"
  }
 },
 "nbformat": 4,
 "nbformat_minor": 2
}
