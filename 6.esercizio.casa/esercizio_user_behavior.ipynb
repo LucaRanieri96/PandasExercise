{
 "cells": [
  {
   "cell_type": "code",
   "execution_count": null,
   "metadata": {},
   "outputs": [],
   "source": [
    "import pandas as pd\n",
    "import matplotlib.pyplot as plt\n",
    "\n",
    "file_path = \"../0.datasets/user_behavior_dataset.csv\"\n",
    "\n",
    "data_set = pd.read_csv(file_path)\n",
    "\n",
    "print(data_set.head())\n",
    "print(data_set.tail())\n",
    "\n"
   ]
  },
  {
   "cell_type": "code",
   "execution_count": null,
   "metadata": {},
   "outputs": [],
   "source": [
    "print(data_set.shape)   # questo metodo riporta il numero di righe e colonne del file\n",
    "print(data_set.info())"
   ]
  },
  {
   "cell_type": "code",
   "execution_count": null,
   "metadata": {},
   "outputs": [],
   "source": [
    "print(data_set.describe())"
   ]
  },
  {
   "cell_type": "code",
   "execution_count": null,
   "metadata": {},
   "outputs": [],
   "source": [
    "top_app = data_set[[\"Device Model\", \"App Usage Time (min/day)\"]]\n",
    "\n",
    "top_app_usage = top_app.sort_values(by=\"App Usage Time (min/day)\", ascending=False)\n",
    "print(top_app_usage)\n",
    "\n",
    "\n",
    "plt.figure(figsize=(10, 5))\n",
    "plt.bar(top_app_usage[\"Device Model\"], top_app_usage[\"App Usage Time (min/day)\"], color='green')\n",
    "plt.xlabel(\"Modello Smartphone\")\n",
    "plt.ylabel(\"Durata batteria in min\")\n",
    "plt.title(\"Durata batteria smartphone\")\n",
    "\n",
    "plt.xticks(rotation=45, ha='right')\n",
    "\n",
    "plt.show()\n"
   ]
  },
  {
   "cell_type": "code",
   "execution_count": null,
   "metadata": {},
   "outputs": [],
   "source": [
    "average_time_app = data_set[[\"App Usage Time (min/day)\", \"User Behavior Class\"]]\n",
    "\n",
    "top_average_time_app = average_time_app.sort_values(by=\"App Usage Time (min/day)\", ascending=False)\n",
    "\n",
    "plt.figure(figsize=(10, 5))\n",
    "plt.bar(top_average_time_app[\"User Behavior Class\"], top_average_time_app[\"App Usage Time (min/day)\"], color='pink')\n",
    "plt.xlabel(\"Classe utente\")\n",
    "plt.ylabel(\"Durata batteria in minuti\")\n",
    "plt.title(\"Tempo utilizzo app in base alla classe utente\")\n",
    "\n",
    "plt.xticks(rotation=0, ha='right')\n",
    "\n",
    "plt.show()"
   ]
  },
  {
   "cell_type": "code",
   "execution_count": null,
   "metadata": {},
   "outputs": [],
   "source": [
    "plt.figure(figsize=(12, 6))\n",
    "\n",
    "plt.scatter(data_set[\"Battery Drain (mAh/day)\"], data_set[\"Data Usage (MB/day)\"], color='orange', alpha=0.5)\n",
    "\n",
    "plt.xlabel(\"Consumo batteria mAh\")\n",
    "plt.ylabel(\"Uso dati in MB\")\n",
    "plt.title(\"Consumo Batteria in base all'utilizzo dei dati\")\n",
    "\n",
    "\n",
    "plt.plot()"
   ]
  },
  {
   "cell_type": "code",
   "execution_count": null,
   "metadata": {},
   "outputs": [],
   "source": [
    "gender_behavior_class = data_set[['Gender', \"User Behavior Class\"]]\n",
    "n_behavior_class = gender_behavior_class.sort_values(by=\"Gender\", ascending=False)\n",
    "\n",
    "plt.figure(figsize=(10, 5))\n",
    "plt.bar(n_behavior_class[\"Gender\"], n_behavior_class[\"User Behavior Class\"], color='blue')\n",
    "plt.xlabel(\"Genere\")\n",
    "plt.ylabel(\"Classe\")\n",
    "plt.title(\"Distribuzione di genere nelle classi di comportameto\")\n",
    "\n",
    "plt.xticks(rotation=0, ha='right')\n",
    "\n",
    "plt.show()"
   ]
  },
  {
   "cell_type": "code",
   "execution_count": null,
   "metadata": {},
   "outputs": [],
   "source": [
    "plt.figure(figsize=(12, 6))\n",
    "\n",
    "plt.scatter(data_set['Gender'], data_set['User Behavior Class'], color='green', alpha=0.6)\n",
    "plt.xlabel(\"Genere\")\n",
    "plt.ylabel(\"Classe\")\n",
    "plt.title(\"Distribuzione di genere nelle classi di comportameto\")\n",
    "\n",
    "\n",
    "plt.plot()\n"
   ]
  },
  {
   "cell_type": "code",
   "execution_count": null,
   "metadata": {},
   "outputs": [],
   "source": [
    "user_behavor = data_set[\"User Behavior Class\"].value_counts()\n",
    "\n",
    "plt.figure(figsize=(6, 6))\n",
    "plt.pie(user_behavor, labels=user_behavor.index, autopct='%1.1f%%', startangle=0 )\n",
    "\n",
    "plt.show()"
   ]
  },
  {
   "cell_type": "code",
   "execution_count": null,
   "metadata": {},
   "outputs": [],
   "source": [
    "male_or_female = data_set[\"Gender\"].value_counts()\n",
    "\n",
    "plt.figure(figsize=(6, 6))\n",
    "plt.pie(male_or_female, labels=male_or_female.index, autopct='%1.1f%%', startangle=0 )\n",
    "\n",
    "plt.show()"
   ]
  }
 ],
 "metadata": {
  "kernelspec": {
   "display_name": "Python 3",
   "language": "python",
   "name": "python3"
  },
  "language_info": {
   "codemirror_mode": {
    "name": "ipython",
    "version": 3
   },
   "file_extension": ".py",
   "mimetype": "text/x-python",
   "name": "python",
   "nbconvert_exporter": "python",
   "pygments_lexer": "ipython3",
   "version": "3.12.7"
  }
 },
 "nbformat": 4,
 "nbformat_minor": 2
}
