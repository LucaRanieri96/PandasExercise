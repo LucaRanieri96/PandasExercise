{
 "cells": [
  {
   "cell_type": "code",
   "execution_count": null,
   "metadata": {},
   "outputs": [],
   "source": [
    "\"\"\"Esercizio per Lunedi prossimo!\n",
    "Lavoriamo sulla repository che abbiamo costruito oggi con tanta tanta fatica:\n",
    "Prendiamo il csv \"user_behavior_dataset\"\n",
    "\n",
    "1. Carica e Ispeziona il Dataset\n",
    "Carica i dati e verifica eventuali problemi, come valori mancanti o tipi di dati non corretti.\n",
    "\n",
    "2. Pulisci i Dati\n",
    "Passo 1: Verifica dei Tipi di Dati\n",
    "Assicurati che tutte le colonne siano nel formato corretto, convertendo colonne come Tempo di Utilizzo delle App, Tempo di Schermo Acceso, \n",
    "Scarico della Batteria e Utilizzo dei Dati in tipi numerici se non lo sono già.\n",
    "\n",
    "3. Visualizzazione Esplorativa dei Dati\n",
    "Con i dati puliti, è possibile visualizzare i modelli di utilizzo e i comportamenti degli utenti. Ecco alcune idee:\n",
    "\n",
    "Grafico 1: Distribuzione del Tempo di Utilizzo delle App (\"App Usage Time (min/day)\")\n",
    "\n",
    "Grafico 2: Tempo Medio di Utilizzo delle App(\"App Usage Time (min/day)\") per Classe di Comportamento Utente(\"User Behavior Class\")\n",
    "\n",
    "Grafico 3: Scatter Plot di Scarico della Batteria(\"Battery Drain (mAh/day)\") vs. Utilizzo dei Dati (\"Data Usage (MB/day)\")\n",
    "\n",
    "Grafico 4: Distribuzione di Genere (colonna 'Gender') nelle Classi di Comportamento Utente (colonna 'User Behavior Class')\"\"\""
   ]
  }
 ],
 "metadata": {
  "kernelspec": {
   "display_name": "Python 3",
   "language": "python",
   "name": "python3"
  },
  "language_info": {
   "name": "python",
   "version": "3.12.7"
  }
 },
 "nbformat": 4,
 "nbformat_minor": 2
}
