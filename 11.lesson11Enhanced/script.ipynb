{
 "cells": [
  {
   "cell_type": "code",
   "execution_count": 75,
   "metadata": {},
   "outputs": [
    {
     "name": "stdout",
     "output_type": "stream",
     "text": [
      "<class 'pandas.core.frame.DataFrame'>\n",
      "RangeIndex: 10000 entries, 0 to 9999\n",
      "Data columns (total 7 columns):\n",
      " #   Column           Non-Null Count  Dtype\n",
      "---  ------           --------------  -----\n",
      " 0   id_studente      10000 non-null  int64\n",
      " 1   voti_italiano    10000 non-null  int64\n",
      " 2   voti_storia      10000 non-null  int64\n",
      " 3   voti_geografia   10000 non-null  int64\n",
      " 4   voti_matematica  10000 non-null  int64\n",
      " 5   voti_fisica      10000 non-null  int64\n",
      " 6   voti_inglese     10000 non-null  int64\n",
      "dtypes: int64(7)\n",
      "memory usage: 547.0 KB\n",
      "None\n"
     ]
    }
   ],
   "source": [
    "import pandas as pd\n",
    "import numpy as np\n",
    "import matplotlib.pyplot as plt\n",
    "\n",
    "n_studenti = 10000\n",
    "\n",
    "dataframe = pd.DataFrame()\n",
    "\n",
    "dataframe['id_studente'] = pd.Series(range(1, n_studenti + 1))\n",
    "\n",
    "materie = ['voti_italiano', 'voti_storia', 'voti_geografia', 'voti_matematica', 'voti_fisica', 'voti_inglese' ]\n",
    "\n",
    "for materia in materie:\n",
    "    voti = []\n",
    "    for i in range(n_studenti):\n",
    "        voti.append(np.random.randint(1, 11))\n",
    "    dataframe[materia] = pd.Series(voti)\n",
    "\n",
    "print(dataframe.info())"
   ]
  },
  {
   "cell_type": "code",
   "execution_count": 76,
   "metadata": {},
   "outputs": [
    {
     "name": "stdout",
     "output_type": "stream",
     "text": [
      "       id_studente  voti_italiano   voti_storia  voti_geografia  \\\n",
      "count  10000.00000   10000.000000  10000.000000    10000.000000   \n",
      "mean    5000.50000       5.417700      5.462400        5.551900   \n",
      "std     2886.89568       2.880739      2.861434        2.891599   \n",
      "min        1.00000       1.000000      1.000000        1.000000   \n",
      "25%     2500.75000       3.000000      3.000000        3.000000   \n",
      "50%     5000.50000       5.000000      5.000000        6.000000   \n",
      "75%     7500.25000       8.000000      8.000000        8.000000   \n",
      "max    10000.00000      10.000000     10.000000       10.000000   \n",
      "\n",
      "       voti_matematica   voti_fisica  voti_inglese  \n",
      "count     10000.000000  10000.000000  10000.000000  \n",
      "mean          5.521200      5.516800      5.530900  \n",
      "std           2.857196      2.889248      2.894181  \n",
      "min           1.000000      1.000000      1.000000  \n",
      "25%           3.000000      3.000000      3.000000  \n",
      "50%           6.000000      6.000000      6.000000  \n",
      "75%           8.000000      8.000000      8.000000  \n",
      "max          10.000000     10.000000     10.000000  \n",
      "      id_studente  voti_italiano  voti_storia  voti_geografia  \\\n",
      "mean   5000.50000       5.417700     5.462400        5.551900   \n",
      "min       1.00000       1.000000     1.000000        1.000000   \n",
      "std    2886.89568       2.880739     2.861434        2.891599   \n",
      "max   10000.00000      10.000000    10.000000       10.000000   \n",
      "\n",
      "      voti_matematica  voti_fisica  voti_inglese  \n",
      "mean         5.521200     5.516800      5.530900  \n",
      "min          1.000000     1.000000      1.000000  \n",
      "std          2.857196     2.889248      2.894181  \n",
      "max         10.000000    10.000000     10.000000  \n",
      "\n",
      "Statistiche - mean:\n",
      "voti_italiano: 5.42\n",
      "voti_storia: 5.46\n",
      "voti_geografia: 5.55\n",
      "voti_matematica: 5.52\n",
      "voti_fisica: 5.52\n",
      "voti_inglese: 5.53\n",
      "\n",
      "Statistiche - max:\n",
      "voti_italiano: 10.00\n",
      "voti_storia: 10.00\n",
      "voti_geografia: 10.00\n",
      "voti_matematica: 10.00\n",
      "voti_fisica: 10.00\n",
      "voti_inglese: 10.00\n",
      "\n",
      "Statistiche - min:\n",
      "voti_italiano: 1.00\n",
      "voti_storia: 1.00\n",
      "voti_geografia: 1.00\n",
      "voti_matematica: 1.00\n",
      "voti_fisica: 1.00\n",
      "voti_inglese: 1.00\n",
      "\n",
      "Statistiche - var:\n",
      "voti_italiano: 8.30\n",
      "voti_storia: 8.19\n",
      "voti_geografia: 8.36\n",
      "voti_matematica: 8.16\n",
      "voti_fisica: 8.35\n",
      "voti_inglese: 8.38\n",
      "{'mean': {'voti_italiano': np.float64(5.4177), 'voti_storia': np.float64(5.4624), 'voti_geografia': np.float64(5.5519), 'voti_matematica': np.float64(5.5212), 'voti_fisica': np.float64(5.5168), 'voti_inglese': np.float64(5.5309)}, 'max': {'voti_italiano': np.int64(10), 'voti_storia': np.int64(10), 'voti_geografia': np.int64(10), 'voti_matematica': np.int64(10), 'voti_fisica': np.int64(10), 'voti_inglese': np.int64(10)}, 'min': {'voti_italiano': np.int64(1), 'voti_storia': np.int64(1), 'voti_geografia': np.int64(1), 'voti_matematica': np.int64(1), 'voti_fisica': np.int64(1), 'voti_inglese': np.int64(1)}, 'var': {'voti_italiano': np.float64(8.298656575657565), 'voti_storia': np.float64(8.18780502050205), 'voti_geografia': np.float64(8.361342524252427), 'voti_matematica': np.float64(8.16356691669167), 'voti_fisica': np.float64(8.347752535253525), 'voti_inglese': np.float64(8.376282818281826)}}\n"
     ]
    }
   ],
   "source": [
    "#primo metodo consigliato\n",
    "print(dataframe.describe())\n",
    "\n",
    "#secondo metodo\n",
    "statistiche = dataframe.agg(['mean', 'min', 'std', 'max'])\n",
    "\n",
    "#terzo metodo\n",
    "print(statistiche)\n",
    "\n",
    "materie = [col for col in dataframe.columns if col != \"id_studente\"]\n",
    "\n",
    "materie = []\n",
    "\n",
    "for col in dataframe.columns:\n",
    "    if col != \"id_studente\":\n",
    "        materie.append(col)\n",
    "\n",
    "# Inizializziamo un dizionario per memorizzare le statistiche\n",
    "statistiche = {\"mean\": {}, \"max\": {}, \"min\": {}, \"var\": {}}\n",
    "\n",
    "# Calcoliamo le statistiche per ogni colonna utilizzando cicli for\n",
    "for materia in materie:\n",
    "    colonna = dataframe[materia]\n",
    "    media = colonna.mean()\n",
    "    massimo = colonna.max()\n",
    "    minimo = colonna.min()\n",
    "    varianza = colonna.var()\n",
    "\n",
    "    # Memorizziamo i risultati nel dizionario\n",
    "    statistiche[\"mean\"][materia] = media\n",
    "    statistiche[\"max\"][materia] = massimo\n",
    "    statistiche[\"min\"][materia] = minimo\n",
    "    statistiche[\"var\"][materia] = varianza\n",
    "\n",
    "# Mostriamo le statistiche calcolate\n",
    "for stat, valori in statistiche.items():\n",
    "    print(f\"\\nStatistiche - {stat}:\")\n",
    "    for materia, valore in valori.items():\n",
    "        print(f\"{materia}: {valore:.2f}\")\n",
    "\n",
    "print(statistiche)\n"
   ]
  },
  {
   "cell_type": "code",
   "execution_count": 77,
   "metadata": {},
   "outputs": [
    {
     "name": "stdout",
     "output_type": "stream",
     "text": [
      "['voti_italiano', 'voti_storia', 'voti_geografia', 'voti_matematica', 'voti_fisica', 'voti_inglese']\n",
      "       voti_italiano   voti_storia  voti_geografia  voti_matematica  \\\n",
      "count   10000.000000  10000.000000    10000.000000     10000.000000   \n",
      "mean        0.490856      0.495822        0.505767         0.502356   \n",
      "std         0.320082      0.317937        0.321289         0.317466   \n",
      "min         0.000000      0.000000        0.000000         0.000000   \n",
      "25%         0.222222      0.222222        0.222222         0.222222   \n",
      "50%         0.444444      0.444444        0.555556         0.555556   \n",
      "75%         0.777778      0.777778        0.777778         0.777778   \n",
      "max         1.000000      1.000000        1.000000         1.000000   \n",
      "\n",
      "        voti_fisica  voti_inglese  \n",
      "count  10000.000000  10000.000000  \n",
      "mean       0.501867      0.503433  \n",
      "std        0.321028      0.321576  \n",
      "min        0.000000      0.000000  \n",
      "25%        0.222222      0.222222  \n",
      "50%        0.555556      0.555556  \n",
      "75%        0.777778      0.777778  \n",
      "max        1.000000      1.000000  \n"
     ]
    }
   ],
   "source": [
    "from sklearn.preprocessing import MinMaxScaler, LabelEncoder\n",
    "\n",
    "materie = [col for col in dataframe.columns if col != 'id_studente']\n",
    "\n",
    "print(materie)\n",
    "\n",
    "mmscaler = MinMaxScaler()\n",
    "\n",
    "# dataframe_after_scaling = pd.DataFrame()\n",
    "\n",
    "dataframe[materie] = mmscaler.fit_transform(dataframe[materie])\n",
    "\n",
    "print(dataframe[materie].describe())\n",
    "\n",
    "# lista = []\n",
    "# for col in dataframe.columns:\n",
    "#     if col != 'id_studente':\n",
    "#         lista.append(col)\n",
    "\n"
   ]
  },
  {
   "cell_type": "code",
   "execution_count": 78,
   "metadata": {},
   "outputs": [
    {
     "name": "stdout",
     "output_type": "stream",
     "text": [
      "<class 'pandas.core.frame.DataFrame'>\n",
      "RangeIndex: 10000 entries, 0 to 9999\n",
      "Data columns (total 9 columns):\n",
      " #   Column           Non-Null Count  Dtype  \n",
      "---  ------           --------------  -----  \n",
      " 0   id_studente      10000 non-null  int64  \n",
      " 1   voti_italiano    10000 non-null  float64\n",
      " 2   voti_storia      10000 non-null  float64\n",
      " 3   voti_geografia   10000 non-null  float64\n",
      " 4   voti_matematica  10000 non-null  float64\n",
      " 5   voti_fisica      10000 non-null  float64\n",
      " 6   voti_inglese     10000 non-null  float64\n",
      " 7   media_voti       10000 non-null  float64\n",
      " 8   promosso         10000 non-null  bool   \n",
      "dtypes: bool(1), float64(7), int64(1)\n",
      "memory usage: 634.9 KB\n",
      "None\n",
      "\n"
     ]
    }
   ],
   "source": [
    "dataframe['media_voti'] = dataframe[materie].mean(axis = 1)\n",
    "\n",
    "\n",
    "dataframe['promosso'] = dataframe['media_voti'] >= 0.5\n",
    "\n",
    "print(dataframe.info())\n",
    "print()\n"
   ]
  },
  {
   "cell_type": "code",
   "execution_count": 79,
   "metadata": {},
   "outputs": [
    {
     "name": "stdout",
     "output_type": "stream",
     "text": [
      "       id_studente  voti_italiano   voti_storia  voti_geografia  \\\n",
      "count  10000.00000   10000.000000  10000.000000    10000.000000   \n",
      "mean    5000.50000       0.490856      0.495822        0.505767   \n",
      "std     2886.89568       0.320082      0.317937        0.321289   \n",
      "min        1.00000       0.000000      0.000000        0.000000   \n",
      "25%     2500.75000       0.222222      0.222222        0.222222   \n",
      "50%     5000.50000       0.444444      0.444444        0.555556   \n",
      "75%     7500.25000       0.777778      0.777778        0.777778   \n",
      "max    10000.00000       1.000000      1.000000        1.000000   \n",
      "\n",
      "       voti_matematica   voti_fisica  voti_inglese    media_voti      promosso  \n",
      "count     10000.000000  10000.000000  10000.000000  10000.000000  10000.000000  \n",
      "mean          0.502356      0.501867      0.503433      0.500017      0.512900  \n",
      "std           0.317466      0.321028      0.321576      0.129648      0.499859  \n",
      "min           0.000000      0.000000      0.000000      0.055556      0.000000  \n",
      "25%           0.222222      0.222222      0.222222      0.407407      0.000000  \n",
      "50%           0.555556      0.555556      0.555556      0.500000      1.000000  \n",
      "75%           0.777778      0.777778      0.777778      0.592593      1.000000  \n",
      "max           1.000000      1.000000      1.000000      0.944444      1.000000  \n"
     ]
    }
   ],
   "source": [
    "labEncoder = LabelEncoder()\n",
    "\n",
    "dataframe['promosso'] = labEncoder.fit_transform(dataframe['promosso'])\n",
    "\n",
    "print(dataframe.describe())"
   ]
  },
  {
   "cell_type": "code",
   "execution_count": 80,
   "metadata": {},
   "outputs": [
    {
     "name": "stdout",
     "output_type": "stream",
     "text": [
      "accuracy 0.9825\n",
      "report               precision    recall  f1-score   support\n",
      "\n",
      "           0       0.99      0.97      0.98       977\n",
      "           1       0.97      1.00      0.98      1023\n",
      "\n",
      "    accuracy                           0.98      2000\n",
      "   macro avg       0.98      0.98      0.98      2000\n",
      "weighted avg       0.98      0.98      0.98      2000\n",
      "\n"
     ]
    }
   ],
   "source": [
    "from sklearn.model_selection import train_test_split\n",
    "from sklearn.svm import SVC\n",
    "from sklearn.metrics import accuracy_score, classification_report\n",
    "\n",
    "X = dataframe.drop(columns=['id_studente', 'media_voti', 'promosso'])\n",
    "y = dataframe['promosso']\n",
    "\n",
    "X_train, X_test, y_train, y_test = train_test_split(X, y, random_state=42, test_size=0.20)\n",
    "\n",
    "svm = SVC(kernel='linear')\n",
    "\n",
    "svm.fit(X_train, y_train)\n",
    "\n",
    "y_pred = svm.predict(X_test)\n",
    "\n",
    "\n",
    "acc = accuracy_score(y_test, y_pred)\n",
    "\n",
    "rep = classification_report(y_test, y_pred)\n",
    "\n",
    "print('accuracy', acc)\n",
    "print('report', rep)\n"
   ]
  },
  {
   "cell_type": "code",
   "execution_count": 127,
   "metadata": {},
   "outputs": [
    {
     "name": "stdout",
     "output_type": "stream",
     "text": [
      "Bocciato\n"
     ]
    },
    {
     "name": "stderr",
     "output_type": "stream",
     "text": [
      "/usr/lib/python3.12/site-packages/sklearn/base.py:493: UserWarning: X does not have valid feature names, but SVC was fitted with feature names\n",
      "  warnings.warn(\n"
     ]
    }
   ],
   "source": [
    "nuovo_studente = {\n",
    "    \"voti_italiano\": 6,\n",
    "    \"voti_storia\": 4,\n",
    "    \"voti_geografia\": 6,\n",
    "    \"voti_matematica\": 5,\n",
    "    \"voti_fisica\": 6,\n",
    "    \"voti_inglese\": 5 \n",
    "}\n",
    "\n",
    "nuovo_studente_df = pd.DataFrame([nuovo_studente])\n",
    "\n",
    "nuovo_studente_norm = mmscaler.transform(nuovo_studente_df)\n",
    "\n",
    "predizione = svm.predict(nuovo_studente_norm)\n",
    "\n",
    "risultato = \"Promosso\" if predizione[0] == 1 else \"Bocciato\"\n",
    "\n",
    "print(risultato)\n",
    "\n"
   ]
  },
  {
   "cell_type": "code",
   "execution_count": null,
   "metadata": {},
   "outputs": [],
   "source": [
    "# Calcoliamo la distribuzione delle classi reali e delle previsioni\n",
    "distribuzione_real = y_test.value_counts(normalize=True)\n",
    "distribuzione_pred = pd.Series(y_pred).value_counts(normalize=True)\n",
    "\n",
    "# Creiamo un DataFrame per visualizzare meglio le distribuzioni\n",
    "confronto_distribuzione = pd.DataFrame({\n",
    "    'Valori Reali': distribuzione_real,\n",
    "    'Previsioni Modello': distribuzione_pred\n",
    "})\n",
    "\n",
    "# Visualizziamo il grafico a barre comparativo\n",
    "plt.figure(figsize=(10, 6))\n",
    "confronto_distribuzione.plot(kind='bar', color=['skyblue', 'lightgreen'], alpha=0.7)\n",
    "plt.title(\"Confronto della Distribuzione delle Classi: Valori Reali vs Previsioni\")\n",
    "plt.xticks([0, 1], ['Bocciato', 'Promosso'], rotation=0)\n",
    "plt.ylabel(\"Percentuale\")\n",
    "plt.grid(axis='y')\n",
    "plt.show()"
   ]
  }
 ],
 "metadata": {
  "kernelspec": {
   "display_name": "Python 3",
   "language": "python",
   "name": "python3"
  },
  "language_info": {
   "codemirror_mode": {
    "name": "ipython",
    "version": 3
   },
   "file_extension": ".py",
   "mimetype": "text/x-python",
   "name": "python",
   "nbconvert_exporter": "python",
   "pygments_lexer": "ipython3",
   "version": "3.12.7"
  }
 },
 "nbformat": 4,
 "nbformat_minor": 2
}
