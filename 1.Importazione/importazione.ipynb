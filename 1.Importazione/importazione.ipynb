{
 "cells": [
  {
   "cell_type": "code",
   "execution_count": null,
   "metadata": {},
   "outputs": [],
   "source": [
    "import pandas as pd\n",
    "\n",
    "#leggere il csv tramite pandas -> creare un dataframe!\n",
    "percorso_file = '../0.datasets/Voli.csv'\n",
    "df = pd.read_csv(percorso_file)\n",
    "\n",
    "#mostrano le prime righe del dataframe\n",
    "print(df.head(20))\n",
    "\n",
    "print(df.tail())"
   ]
  }
 ],
 "metadata": {
  "kernelspec": {
   "display_name": "Python 3",
   "language": "python",
   "name": "python3"
  },
  "language_info": {
   "codemirror_mode": {
    "name": "ipython",
    "version": 3
   },
   "file_extension": ".py",
   "mimetype": "text/x-python",
   "name": "python",
   "nbconvert_exporter": "python",
   "pygments_lexer": "ipython3",
   "version": "3.12.7"
  }
 },
 "nbformat": 4,
 "nbformat_minor": 2
}
