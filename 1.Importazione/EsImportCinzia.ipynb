import pandas as pd

#read csv with pandas -> creare un dataframe!
file_path = '../0.dataset/DailyDelhiClimateTest.csv'
df = pd.read_csv(file_path)

#print first 10 lines of the df
print(df.head(10))

#print tail of the df
print(df.tail())
