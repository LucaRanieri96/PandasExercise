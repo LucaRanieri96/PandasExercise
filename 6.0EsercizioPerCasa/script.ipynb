{
 "cells": [
  {
   "cell_type": "code",
   "execution_count": 1,
   "metadata": {},
   "outputs": [
    {
     "data": {
      "image/png": "[encoded data removed]",
      "text/plain": [
       "<Figure size 640x480 with 1 Axes>"
      ]
     },
     "metadata": {},
     "output_type": "display_data"
    }
   ],
   "source": [
    "# #Esercizio per Lunedi prossimo!\n",
    "# #Lavoriamo sulla repository che abbiamo costruito oggi con tanta tanta fatica:\n",
    "# #Prendiamo il csv \"user_behavior_dataset\"\n",
    "\n",
    "# #1. Carica e Ispeziona il Dataset\n",
    "# # Carica i dati e verifica eventuali problemi, come valori mancanti o tipi di dati non corretti.\n",
    "\n",
    "# # #2. Pulisci i Dati\n",
    "# # Passo 1: Verifica dei Tipi di Dati\n",
    "# # Assicurati che tutte le colonne siano nel formato corretto, \n",
    "# # convertendo colonne come Tempo di Utilizzo delle App, Tempo di Schermo Acceso, \n",
    "# # Scarico della Batteria e Utilizzo dei Dati in tipi numerici se non lo sono già.\n",
    "\n",
    "# # #3. Visualizzazione Esplorativa dei Dati\n",
    "# # Con i dati puliti, è possibile visualizzare i modelli di utilizzo e \n",
    "# # i comportamenti degli utenti. Ecco alcune idee:\n",
    "\n",
    "# #print(df.head())\n",
    "# #print(df.info()) #also tells us how many Non-Null values there are present in each column\n",
    "# #print(df.describe())\n",
    "# #print(df.columns) elenca intestazioni di colonna\n",
    "# #print(df[cols].head()) shows head in selected column\n",
    "# #print(df.dtypes) delle colonne\n",
    "# #print(df.duplicated()) returns true is duplicated is in the df\n",
    "# #print(df[\"App Usage Time (min/day)\"].head())\n",
    "\n",
    "# import pandas as pd\n",
    "# import matplotlib.pyplot as plt\n",
    "# import numpy as np\n",
    "\n",
    "# file_path = '../0.datasets/user_behavior_dataset.csv'\n",
    "# df = pd.read_csv(file_path)\n",
    "\n",
    "# #AppMinDay = df[['App Usage Time (min/day)']]\n",
    "\n",
    "# #Grafico 1: Distribuzione del Tempo di Utilizzo delle App (\"App Usage Time (min/day)\")\n",
    "# #df['App Usage Time (min/day)'] = df['App Usage Time (min/day)'].astype(int)\n",
    "\n",
    "# meanAppTime = np.mean(df[['App Usage Time (min/day)']])\n",
    "# stdAppTime = np.std(df[['App Usage Time (min/day)']])\n",
    "\n",
    "# plt.title(\"AppMinDay\")\n",
    "# plt.xlabel(\"Time (min/day)\")\n",
    "# plt.ylabel(\"non ho capito cos'è?\")\n",
    "# plt.grid(axis='y', alpha=0.75) # linee orizzontali\n",
    "# plt.hist(stdAppTime, color= 'lightblue', edgecolor= 'white' )\n",
    "# plt.show()\n",
    "\n",
    "# #Grafico 2: Tempo Medio di Utilizzo delle App(\"App Usage Time (min/day)\") per \n",
    "# Classe di Comportamento Utente(\"User Behavior Class\")\n",
    "\n",
    "import pandas as pd\n",
    "import matplotlib.pyplot as plt\n",
    "import numpy as np\n",
    "\n",
    "file_path = '../0.datasets/user_behavior_dataset.csv'\n",
    "df = pd.read_csv(file_path)\n",
    "\n",
    "x = np.array(df['User Behavior Class'])\n",
    "y = np.array(df['App Usage Time (min/day)'])\n",
    "\n",
    "plt.bar(x,y)\n",
    "plt.show()\n",
    "\n",
    "# meanAppTime = np.mean(df[['App Usage Time (min/day)']])\n",
    "# stdAppTime = np.std(df[['App Usage Time (min/day)']])\n",
    "\n",
    "\n",
    "\n"
   ]
  }
 ],
 "metadata": {
  "kernelspec": {
   "display_name": "Python 3",
   "language": "python",
   "name": "python3"
  },
  "language_info": {
   "codemirror_mode": {
    "name": "ipython",
    "version": 3
   },
   "file_extension": ".py",
   "mimetype": "text/x-python",
   "name": "python",
   "nbconvert_exporter": "python",
   "pygments_lexer": "ipython3",
   "version": "3.12.7"
  }
 },
 "nbformat": 4,
 "nbformat_minor": 2
}
