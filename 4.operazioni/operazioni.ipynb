{
 "cells": [
  {
   "cell_type": "markdown",
   "metadata": {},
   "source": [
    "Operazioni principale:"
   ]
  },
  {
   "cell_type": "code",
   "execution_count": 6,
   "metadata": {},
   "outputs": [
    {
     "name": "stdout",
     "output_type": "stream",
     "text": [
      "data_dte        05/01/2014\n",
      "Year                  2014\n",
      "Month                    5\n",
      "usg_apt_id           14492\n",
      "usg_apt                RDU\n",
      "usg_wac                 36\n",
      "fg_apt_id            11032\n",
      "fg_apt                 CUN\n",
      "fg_wac                 148\n",
      "airlineid            19534\n",
      "carrier                 AM\n",
      "carriergroup             0\n",
      "type            Passengers\n",
      "Scheduled                0\n",
      "Charter                315\n",
      "Total                  315\n",
      "Name: 0, dtype: object\n"
     ]
    }
   ],
   "source": [
    "import pandas as pd\n",
    "\n",
    "file_path = '../0.datasets/Passeggeri.csv'\n",
    "\n",
    "df = pd.read_csv(file_path)\n",
    "\n",
    "# print(df.columns)\n",
    "\n",
    "carrier_column = df['carrier']\n",
    "\n",
    "# print(carrier_column)\n",
    "\n",
    "cols = ['carrier', 'type', 'Year']\n",
    "\n",
    "# print(df[cols].head())\n",
    "\n",
    "# Selezionare una riga specifica usando il metodo .loc[] (basato su etichette!!!)\n",
    "print(\"\\nRiga con indice 0:\")\n",
    "print(df.loc[0]) \n",
    "\n",
    "# Selezionare una riga specifica usando il metodo .iloc[] (basato su posizione!!!)\n",
    "print(\"\\nRiga con posizione 2:\")\n",
    "print(df.iloc[2]) # ->come si faceva con le liste[index]\n",
    "\n",
    "\n",
    "filter_df = df[df['Total' > 150]]\n",
    "\n",
    "\n",
    "\n",
    "\n",
    "\n"
   ]
  },
  {
   "cell_type": "markdown",
   "metadata": {},
   "source": [
    "# La differenza tra .loc[] e .iloc[] in Pandas sta nel modo in cui selezionano le righe e le colonne:\n",
    "\n",
    "## .loc[] – Selezione basata su etichette\n",
    "Utilizza le etichette degli indici (o i nomi delle colonne) per selezionare righe o colonne.\n",
    "È utile quando vuoi accedere ai dati usando i nomi degli indici (etichette).\n",
    "Funziona con nomi esatti di indici o colonne.\n",
    "Esempio con .loc[]: Immagina di avere un DataFrame con l'indice che rappresenta le date:"
   ]
  },
  {
   "cell_type": "code",
   "execution_count": 8,
   "metadata": {},
   "outputs": [
    {
     "name": "stdout",
     "output_type": "stream",
     "text": [
      "carrier     AA\n",
      "Total      250\n",
      "Name: 2023-01-01, dtype: object\n"
     ]
    }
   ],
   "source": [
    "import pandas as pd\n",
    "\n",
    "# Creiamo un DataFrame con date come indici\n",
    "data = {\n",
    "    'carrier': ['AA', 'DL', 'UA'],\n",
    "    'Total': [250, 180, 200]\n",
    "}\n",
    "\n",
    "df = pd.DataFrame(data, index=['2023-01-01', '2023-02-01', '2023-03-01'])\n",
    "\n",
    "# Selezione di una riga specifica usando l'etichetta dell'indice\n",
    "print(df.loc['2023-01-01'])"
   ]
  },
  {
   "cell_type": "markdown",
   "metadata": {},
   "source": [
    "## .iloc[] – Selezione basata su posizione\n",
    "Utilizza la posizione numerica (come in un array) per selezionare righe o colonne.\n",
    "Funziona con numeri interi che rappresentano la posizione relativa di una riga o colonna nel DataFrame.\n",
    "È utile quando vuoi accedere ai dati utilizzando la posizione (come in una lista Python)."
   ]
  },
  {
   "cell_type": "code",
   "execution_count": 7,
   "metadata": {},
   "outputs": [
    {
     "name": "stdout",
     "output_type": "stream",
     "text": [
      "data_dte        05/01/2014\n",
      "Year                  2014\n",
      "Month                    5\n",
      "usg_apt_id           14492\n",
      "usg_apt                RDU\n",
      "usg_wac                 36\n",
      "fg_apt_id            11032\n",
      "fg_apt                 CUN\n",
      "fg_wac                 148\n",
      "airlineid            19534\n",
      "carrier                 AM\n",
      "carriergroup             0\n",
      "type            Passengers\n",
      "Scheduled                0\n",
      "Charter                315\n",
      "Total                  315\n",
      "Name: 0, dtype: object\n"
     ]
    }
   ],
   "source": [
    "# Selezione di una riga specifica usando la posizione (indice 0 = prima riga)\n",
    "print(df.iloc[0])"
   ]
  }
 ],
 "metadata": {
  "kernelspec": {
   "display_name": "Python 3",
   "language": "python",
   "name": "python3"
  },
  "language_info": {
   "codemirror_mode": {
    "name": "ipython",
    "version": 3
   },
   "file_extension": ".py",
   "mimetype": "text/x-python",
   "name": "python",
   "nbconvert_exporter": "python",
   "pygments_lexer": "ipython3",
   "version": "3.12.7"
  }
 },
 "nbformat": 4,
 "nbformat_minor": 2
}
